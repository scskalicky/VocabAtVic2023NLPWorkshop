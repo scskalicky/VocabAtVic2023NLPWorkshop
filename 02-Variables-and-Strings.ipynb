{
 "cells": [
  {
   "cell_type": "markdown",
   "metadata": {
    "colab_type": "text",
    "id": "view-in-github"
   },
   "source": [
    "<a href=\"https://colab.research.google.com/github/scskalicky/VocabAtVic2023NLPWorkshop/blob/main/02-Variables-and-Strings.ipynb\" target=\"_parent\"><img src=\"https://colab.research.google.com/assets/colab-badge.svg\" alt=\"Open In Colab\"/></a>"
   ]
  },
  {
   "cell_type": "markdown",
   "metadata": {
    "id": "9QRP-0q0YXG6"
   },
   "source": [
    "## **Python 101**\n",
    "\n",
    "- what are `variables` and `values`?\n",
    "- what is a `string`?\n",
    "- what can we do with strings?"
   ]
  },
  {
   "cell_type": "markdown",
   "metadata": {},
   "source": [
    "- Variables are names we give to values.\n",
    "- Values are the actual data/things we are manipulating\n",
    "- We assign variables like this, using an equal sign:\n",
    "\n",
    "```\n",
    "`variable` = `value`\n",
    "```\n",
    "\n",
    "Two basic types of values are numeric data and text data:\n"
   ]
  },
  {
   "cell_type": "code",
   "execution_count": null,
   "metadata": {
    "id": "0Gw_k8_1YXG6"
   },
   "outputs": [],
   "source": [
    "# numeric data\n",
    "number_one = 1"
   ]
  },
  {
   "cell_type": "code",
   "execution_count": null,
   "metadata": {},
   "outputs": [],
   "source": [
    "number_one"
   ]
  },
  {
   "cell_type": "code",
   "execution_count": null,
   "metadata": {},
   "outputs": [],
   "source": [
    "# text data\n",
    "number_two = 'two'"
   ]
  },
  {
   "cell_type": "code",
   "execution_count": null,
   "metadata": {},
   "outputs": [],
   "source": [
    "number_two"
   ]
  },
  {
   "cell_type": "markdown",
   "metadata": {},
   "source": [
    "We can also use the `print()` function to print the value of a variable to the console:"
   ]
  },
  {
   "cell_type": "code",
   "execution_count": null,
   "metadata": {},
   "outputs": [],
   "source": [
    "print(number_one)"
   ]
  },
  {
   "cell_type": "code",
   "execution_count": null,
   "metadata": {},
   "outputs": [],
   "source": [
    "print(number_two)"
   ]
  },
  {
   "cell_type": "markdown",
   "metadata": {},
   "source": [
    "### **Your Turn**\n",
    "\n",
    "1. Below, save some text to a variable. Give your variable a descriptive name. \n",
    "\n",
    "To save text to a variable, use this syntax:\n",
    "\n",
    "> `variable_name = \"text\"`\n",
    "\n",
    "\n",
    "2. Then, in the second code cell, use the `print()` function to print the value of your variable to the console. Use this syntax:\n",
    "\n",
    "> `print(variable)`"
   ]
  },
  {
   "cell_type": "code",
   "execution_count": null,
   "metadata": {},
   "outputs": [],
   "source": [
    "# make a text variable here"
   ]
  },
  {
   "cell_type": "code",
   "execution_count": null,
   "metadata": {},
   "outputs": [],
   "source": [
    "# print your variable here"
   ]
  },
  {
   "cell_type": "markdown",
   "metadata": {},
   "source": [
    "## Strings as text\n",
    "\n",
    "- in Python, typed data in text format is a `string`\n",
    "- a string must be contained between `delimiters`, the quote marks. The delimiters must match!\n",
    "    - `'single quotes'`\n",
    "    - `\"double quotes\"`"
   ]
  },
  {
   "cell_type": "code",
   "execution_count": null,
   "metadata": {},
   "outputs": [],
   "source": [
    "# an error because there is no closing delimiter (')\n",
    "print('these pretezels are making me thirsty!)"
   ]
  },
  {
   "cell_type": "code",
   "execution_count": null,
   "metadata": {},
   "outputs": [],
   "source": [
    "# an error because the apostrophe in we're is terminating the string early\n",
    "print('You know, we're living in a society!')"
   ]
  },
  {
   "cell_type": "code",
   "execution_count": null,
   "metadata": {},
   "outputs": [],
   "source": [
    "# one solution is to use combinations of double / single quotes\n",
    "print(\"You know, we're living in society!\")"
   ]
  },
  {
   "cell_type": "code",
   "execution_count": null,
   "metadata": {},
   "outputs": [],
   "source": [
    "# triple double quotes \"\"\" is another option \"\"\"\n",
    "print(\"\"\"\n",
    "These pretzels are making me thirsy!\n",
    "You know, we're living in a society!\n",
    "\"\"\")"
   ]
  },
  {
   "cell_type": "code",
   "execution_count": null,
   "metadata": {},
   "outputs": [],
   "source": [
    "# bonus: you can use \"\\\" to 'escape' apostrophes\n",
    "print('that\\'s a shame')"
   ]
  },
  {
   "cell_type": "markdown",
   "metadata": {},
   "source": [
    "### Strings are sequences of characters\n",
    "- a string is defined as `a sequence of characters`\n",
    "    - what does this mean?\n",
    "\n",
    "\n",
    "In Python we can loop/iterate through sequences, one item at a time"
   ]
  },
  {
   "cell_type": "code",
   "execution_count": null,
   "metadata": {},
   "outputs": [],
   "source": [
    "# save a string to a variable\n",
    "a_good_name = 'soda'\n",
    "\n",
    "# print each item in the string, one item at a time\n",
    "for item in a_good_name:\n",
    "    print(item)"
   ]
  },
  {
   "cell_type": "markdown",
   "metadata": {},
   "source": [
    "### measuring the length of a string\n",
    "\n",
    "- The function `len()` returns the length of a sequence. \n",
    "- We can thus use `len()` to measure the length of strings!"
   ]
  },
  {
   "cell_type": "code",
   "execution_count": null,
   "metadata": {},
   "outputs": [],
   "source": [
    "# this string contains a single character\n",
    "len('a')"
   ]
  },
  {
   "cell_type": "code",
   "execution_count": null,
   "metadata": {},
   "outputs": [],
   "source": [
    "# how many characters are in this string?\n",
    "len(' a ')"
   ]
  },
  {
   "cell_type": "code",
   "execution_count": null,
   "metadata": {},
   "outputs": [],
   "source": [
    "# and this string?\n",
    "len('a!')"
   ]
  },
  {
   "cell_type": "markdown",
   "metadata": {},
   "source": [
    "### Before moving on...\n",
    "- do you know how to assign variables? \n",
    "- do you know what `print()` and `len()` do?\n",
    "- do you know what a string is? "
   ]
  }
 ],
 "metadata": {
  "colab": {
   "authorship_tag": "ABX9TyP0dt9fcn60Xvc/2tCyC6HI",
   "include_colab_link": true,
   "private_outputs": true,
   "provenance": []
  },
  "gpuClass": "standard",
  "kernelspec": {
   "display_name": "Python 3 (ipykernel)",
   "language": "python",
   "name": "python3"
  },
  "language_info": {
   "codemirror_mode": {
    "name": "ipython",
    "version": 3
   },
   "file_extension": ".py",
   "mimetype": "text/x-python",
   "name": "python",
   "nbconvert_exporter": "python",
   "pygments_lexer": "ipython3",
   "version": "3.10.10"
  }
 },
 "nbformat": 4,
 "nbformat_minor": 4
}
