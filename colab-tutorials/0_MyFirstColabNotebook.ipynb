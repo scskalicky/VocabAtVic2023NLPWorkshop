{
  "nbformat": 4,
  "nbformat_minor": 0,
  "metadata": {
    "colab": {
      "private_outputs": true,
      "provenance": [],
      "authorship_tag": "ABX9TyPeRxUsfFTpmH0+WLimcDT7",
      "include_colab_link": true
    },
    "kernelspec": {
      "name": "python3",
      "display_name": "Python 3"
    },
    "language_info": {
      "name": "python"
    }
  },
  "cells": [
    {
      "cell_type": "markdown",
      "metadata": {
        "id": "view-in-github",
        "colab_type": "text"
      },
      "source": [
        "<a href=\"https://colab.research.google.com/github/scskalicky/LING-226-vuw/blob/main/colab-tutorials/0_MyFirstColabNotebook.ipynb\" target=\"_parent\"><img src=\"https://colab.research.google.com/assets/colab-badge.svg\" alt=\"Open In Colab\"/></a>"
      ]
    },
    {
      "cell_type": "markdown",
      "source": [
        "# CLICK THE OPEN IN COLAB BUTTON TO USE THIS NOTEBOOK\n",
        "\n",
        "(this is a text cell)\n",
        "\n",
        "You can write text and use markdown in text cells."
      ],
      "metadata": {
        "id": "xrtWUt27ffnk"
      }
    },
    {
      "cell_type": "code",
      "execution_count": null,
      "metadata": {
        "id": "d5IJn1pJfYc5"
      },
      "outputs": [],
      "source": [
        "# this is a code cell\n",
        "# text following a \"#\" are comments\n",
        "# the next code cell has code in it, press the \"play\" button to run the code"
      ]
    },
    {
      "cell_type": "code",
      "source": [
        "print('hello world!')"
      ],
      "metadata": {
        "id": "7WBO3lrafwUL"
      },
      "execution_count": null,
      "outputs": []
    }
  ]
}
