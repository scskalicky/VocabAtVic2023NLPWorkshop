{
  "cells": [
    {
      "cell_type": "markdown",
      "metadata": {
        "colab_type": "text",
        "id": "view-in-github"
      },
      "source": [
        "<a href='https://colab.research.google.com/github/scskalicky/VocabAtVic2023NLPWorkshop/blob/main/01-test-colab-notebook.ipynb' target=\"_parent\"><img src=\"https://colab.research.google.com/assets/colab-badge.svg\" alt=\"Open In Colab\"/></a>"
      ]
    },
    {
      "cell_type": "markdown",
      "metadata": {
        "id": "xrtWUt27ffnk"
      },
      "source": [
        "# Click the \"Open in Colab\" button to use this notebook\n",
        "\n",
        "Use this notebook to understand how to open and save a notebook to your Google Drive."
      ]
    },
    {
      "cell_type": "markdown",
      "metadata": {},
      "source": [
        "This is a **`markdown`** cell.\n",
        "\n",
        "You can write text and insert images. \n",
        "\n",
        "Markdown cells do not run code."
      ]
    },
    {
      "cell_type": "code",
      "execution_count": null,
      "metadata": {
        "id": "d5IJn1pJfYc5"
      },
      "outputs": [],
      "source": [
        "# this is a code cell\n",
        "# text following a \"#\" are comments\n",
        "# the next code cell has code in it, press the \"play\" button to run the code"
      ]
    },
    {
      "cell_type": "code",
      "execution_count": null,
      "metadata": {
        "id": "7WBO3lrafwUL"
      },
      "outputs": [],
      "source": [
        "# this code cell will use the function `print()` to print the text input\n",
        "print('hello world!')"
      ]
    }
  ],
  "metadata": {
    "colab": {
      "authorship_tag": "ABX9TyPeRxUsfFTpmH0+WLimcDT7",
      "include_colab_link": true,
      "private_outputs": true,
      "provenance": []
    },
    "kernelspec": {
      "display_name": "Python 3",
      "name": "python3"
    },
    "language_info": {
      "codemirror_mode": {
        "name": "ipython",
        "version": 3
      },
      "file_extension": ".py",
      "mimetype": "text/x-python",
      "name": "python",
      "nbconvert_exporter": "python",
      "pygments_lexer": "ipython3",
      "version": "3.10.10"
    }
  },
  "nbformat": 4,
  "nbformat_minor": 0
}
