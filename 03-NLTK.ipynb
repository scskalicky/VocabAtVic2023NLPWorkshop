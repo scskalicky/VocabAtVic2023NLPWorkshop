{
  "cells": [
    {
      "cell_type": "markdown",
      "metadata": {
        "colab_type": "text",
        "id": "view-in-github"
      },
      "source": [
        "<a href=\"https://colab.research.google.com/github/scskalicky/VocabAtVic2023NLPWorkshop/blob/main/03-NLTK.ipynb\" target=\"_parent\"><img src=\"https://colab.research.google.com/assets/colab-badge.svg\" alt=\"Open In Colab\"/></a>"
      ]
    },
    {
      "cell_type": "markdown",
      "metadata": {
        "id": "BcNVXxLWYcDl"
      },
      "source": [
        "## **Strings into Words**\n",
        "\n",
        "- How can we get Python to turn a `string` into a set of words?\n",
        "- the `str.split()` function is one way\n",
        "- this function will \"split\" a string on a pre-defined character. The default is to split on whitespace:"
      ]
    },
    {
      "cell_type": "code",
      "execution_count": 103,
      "metadata": {
        "id": "r9f9TcuSCtFS"
      },
      "outputs": [
        {
          "data": {
            "text/plain": [
              "['these', 'pretzels', 'are', 'making', 'me', 'thirsty']"
            ]
          },
          "execution_count": 103,
          "metadata": {},
          "output_type": "execute_result"
        }
      ],
      "source": [
        "# define a string and save it to a variable\n",
        "pretzels = 'these pretzels are making me thirsty'\n",
        "\n",
        "# use .split() to convert the string into a list of segments split on whitespace\n",
        "pretzels.split()"
      ]
    },
    {
      "cell_type": "markdown",
      "metadata": {},
      "source": [
        "The resulting object was a `list` of values, which happen to be individual words!\n",
        "\n",
        "Do you remember `len()`? How can we use `len()` and `str.split()` to count the number of words in a string?"
      ]
    },
    {
      "cell_type": "code",
      "execution_count": 104,
      "metadata": {},
      "outputs": [],
      "source": [
        "# how to use len() and .split() to count the total number of words?\n"
      ]
    },
    {
      "cell_type": "markdown",
      "metadata": {},
      "source": [
        "## **Types, tokens, and TTR**\n",
        "\n",
        "- types: unique words\n",
        "- tokens: occurences of unique words\n",
        "- type-token ratio (TTR): measure of lexical repetition in text\n",
        "\n",
        "#### use `set()` to find unique instances of items in a sequence\n",
        "- `set(tokens)` = all unique values\n",
        "\n",
        "#### use `len()` and `set()` to calculate TTR\n",
        "\n",
        "- `len(set(tokens))` / `len(tokens)`"
      ]
    },
    {
      "cell_type": "code",
      "execution_count": 105,
      "metadata": {},
      "outputs": [],
      "source": [
        "# load in a text\n",
        "turtles = \"\"\"teenage mutant ninja turtles, \n",
        "            teenage mutant ninja turtles, \n",
        "            teenage mutant ninja turtles, \n",
        "            heroes in a halfshell, turtle power!\"\"\""
      ]
    },
    {
      "cell_type": "code",
      "execution_count": 106,
      "metadata": {},
      "outputs": [],
      "source": [
        "# convert to tokens using `.split()`\n",
        "turtle_tokens = turtles.split()"
      ]
    },
    {
      "cell_type": "code",
      "execution_count": 107,
      "metadata": {},
      "outputs": [
        {
          "data": {
            "text/plain": [
              "['teenage',\n",
              " 'mutant',\n",
              " 'ninja',\n",
              " 'turtles,',\n",
              " 'teenage',\n",
              " 'mutant',\n",
              " 'ninja',\n",
              " 'turtles,',\n",
              " 'teenage',\n",
              " 'mutant',\n",
              " 'ninja',\n",
              " 'turtles,',\n",
              " 'heroes',\n",
              " 'in',\n",
              " 'a',\n",
              " 'halfshell,',\n",
              " 'turtle',\n",
              " 'power!']"
            ]
          },
          "execution_count": 107,
          "metadata": {},
          "output_type": "execute_result"
        }
      ],
      "source": [
        "# look at the tokens\n",
        "turtle_tokens"
      ]
    },
    {
      "cell_type": "code",
      "execution_count": 108,
      "metadata": {},
      "outputs": [
        {
          "data": {
            "text/plain": [
              "18"
            ]
          },
          "execution_count": 108,
          "metadata": {},
          "output_type": "execute_result"
        }
      ],
      "source": [
        "# use `len()` to count the number of words\n",
        "len(turtle_tokens)"
      ]
    },
    {
      "cell_type": "code",
      "execution_count": 109,
      "metadata": {},
      "outputs": [
        {
          "data": {
            "text/plain": [
              "{'a',\n",
              " 'halfshell,',\n",
              " 'heroes',\n",
              " 'in',\n",
              " 'mutant',\n",
              " 'ninja',\n",
              " 'power!',\n",
              " 'teenage',\n",
              " 'turtle',\n",
              " 'turtles,'}"
            ]
          },
          "execution_count": 109,
          "metadata": {},
          "output_type": "execute_result"
        }
      ],
      "source": [
        "# use `set()` to get just the unique words\n",
        "turtle_types = set(turtle_tokens)\n",
        "turtle_types"
      ]
    },
    {
      "cell_type": "code",
      "execution_count": 110,
      "metadata": {},
      "outputs": [
        {
          "data": {
            "text/plain": [
              "10"
            ]
          },
          "execution_count": 110,
          "metadata": {},
          "output_type": "execute_result"
        }
      ],
      "source": [
        "# use len() and set() to count the number of types..\n",
        "len(turtle_types)"
      ]
    },
    {
      "cell_type": "code",
      "execution_count": 111,
      "metadata": {},
      "outputs": [
        {
          "data": {
            "text/plain": [
              "0.5555555555555556"
            ]
          },
          "execution_count": 111,
          "metadata": {},
          "output_type": "execute_result"
        }
      ],
      "source": [
        "# finally...calculate the TTR!\n",
        "len(turtle_types) / len(turtle_tokens)"
      ]
    },
    {
      "cell_type": "markdown",
      "metadata": {},
      "source": [
        "### Problems with `.split()`\n",
        "\n",
        "- punctuation is retained\n",
        "- not all languages use whitespace"
      ]
    },
    {
      "cell_type": "code",
      "execution_count": 112,
      "metadata": {},
      "outputs": [
        {
          "data": {
            "text/plain": [
              "{'yadda!', 'yadda,'}"
            ]
          },
          "execution_count": 112,
          "metadata": {},
          "output_type": "execute_result"
        }
      ],
      "source": [
        "yadda = 'yadda, yadda, yadda!'\n",
        "\n",
        "set(yadda.split())"
      ]
    },
    {
      "cell_type": "code",
      "execution_count": 113,
      "metadata": {},
      "outputs": [
        {
          "data": {
            "text/plain": [
              "['对不起我的中文不好']"
            ]
          },
          "execution_count": 113,
          "metadata": {},
          "output_type": "execute_result"
        }
      ],
      "source": [
        "# not all languages use whitespace\n",
        "zhongwen = '对不起我的中文不好'\n",
        "\n",
        "zhongwen.split()"
      ]
    },
    {
      "cell_type": "markdown",
      "metadata": {},
      "source": [
        "## **Tokenizing with NLTK**\n",
        "- NLTK = [Natural Language ToolKit](https://www.nltk.org/book/)\n",
        "- NLTK has a better method to tokenize words\n",
        "- To use NLTK:\n",
        "    - import the `nltk`` library\n",
        "    - download some resources\n",
        "\n",
        "Then use `nltk.word_tokenize()` to obtain tokens"
      ]
    },
    {
      "cell_type": "code",
      "execution_count": 114,
      "metadata": {},
      "outputs": [
        {
          "name": "stderr",
          "output_type": "stream",
          "text": [
            "[nltk_data] Downloading package punkt to /Users/sskalicky/nltk_data...\n",
            "[nltk_data]   Package punkt is already up-to-date!\n"
          ]
        },
        {
          "data": {
            "text/plain": [
              "True"
            ]
          },
          "execution_count": 114,
          "metadata": {},
          "output_type": "execute_result"
        }
      ],
      "source": [
        "# import the library and download required resources\n",
        "import nltk\n",
        "nltk.download('punkt')"
      ]
    },
    {
      "cell_type": "markdown",
      "metadata": {},
      "source": [
        "### Compare `str.split()` and `nltk.word_tokenize()` on the same text\n",
        "\n",
        "- NLTK function treats punctuation as a token\n",
        "- does this create any new challenges for text metrics?"
      ]
    },
    {
      "cell_type": "code",
      "execution_count": 115,
      "metadata": {},
      "outputs": [
        {
          "name": "stdout",
          "output_type": "stream",
          "text": [
            "['yadda,', 'yadda,', 'yadda!']\n"
          ]
        }
      ],
      "source": [
        "# .split() keeps punctuation attached to the word\n",
        "split_yadda = yadda.split()\n",
        "\n",
        "print(split_yadda)"
      ]
    },
    {
      "cell_type": "code",
      "execution_count": 116,
      "metadata": {},
      "outputs": [
        {
          "name": "stdout",
          "output_type": "stream",
          "text": [
            "['yadda', ',', 'yadda', ',', 'yadda', '!']\n"
          ]
        }
      ],
      "source": [
        "# nltk tokenizer recognises punctuation\n",
        "nltk_yadda = nltk.word_tokenize(yadda)\n",
        "\n",
        "print(nltk_yadda)"
      ]
    },
    {
      "cell_type": "code",
      "execution_count": 117,
      "metadata": {},
      "outputs": [
        {
          "data": {
            "text/plain": [
              "['You', 'know', 'we', \"'re\", 'living', 'in', 'a', 'society', '!']"
            ]
          },
          "execution_count": 117,
          "metadata": {},
          "output_type": "execute_result"
        }
      ],
      "source": [
        "# implications for contractions\n",
        "nltk.word_tokenize('You know we\\'re living in a society!')"
      ]
    },
    {
      "cell_type": "code",
      "execution_count": 118,
      "metadata": {},
      "outputs": [],
      "source": [
        "# Tokenize some text!\n"
      ]
    },
    {
      "cell_type": "markdown",
      "metadata": {},
      "source": [
        "## **Word Frequency**\n",
        "\n",
        "- the `nltk.FreqDist()` function quickly provides the frequency distribution of words in your text"
      ]
    },
    {
      "cell_type": "code",
      "execution_count": 119,
      "metadata": {},
      "outputs": [],
      "source": [
        "# create a variable from our turtle text\n",
        "turtles_fdist = nltk.FreqDist(nltk.word_tokenize(turtles))"
      ]
    },
    {
      "cell_type": "code",
      "execution_count": 120,
      "metadata": {},
      "outputs": [
        {
          "data": {
            "text/plain": [
              "FreqDist({',': 4, 'teenage': 3, 'mutant': 3, 'ninja': 3, 'turtles': 3, 'heroes': 1, 'in': 1, 'a': 1, 'halfshell': 1, 'turtle': 1, ...})"
            ]
          },
          "execution_count": 120,
          "metadata": {},
          "output_type": "execute_result"
        }
      ],
      "source": [
        "# look at the whole thing\n",
        "turtles_fdist"
      ]
    },
    {
      "cell_type": "code",
      "execution_count": 121,
      "metadata": {},
      "outputs": [
        {
          "data": {
            "text/plain": [
              "[(',', 4), ('teenage', 3), ('mutant', 3)]"
            ]
          },
          "execution_count": 121,
          "metadata": {},
          "output_type": "execute_result"
        }
      ],
      "source": [
        "# Top 3 most frequent words in this text?\n",
        "turtles_fdist.most_common(3)"
      ]
    },
    {
      "cell_type": "code",
      "execution_count": 122,
      "metadata": {},
      "outputs": [
        {
          "data": {
            "text/plain": [
              "3"
            ]
          },
          "execution_count": 122,
          "metadata": {},
          "output_type": "execute_result"
        }
      ],
      "source": [
        "# frequency of a specific word?\n",
        "turtles_fdist['mutant']"
      ]
    },
    {
      "cell_type": "code",
      "execution_count": 123,
      "metadata": {},
      "outputs": [
        {
          "data": {
            "text/plain": [
              "['heroes', 'in', 'a', 'halfshell', 'turtle', 'power', '!']"
            ]
          },
          "execution_count": 123,
          "metadata": {},
          "output_type": "execute_result"
        }
      ],
      "source": [
        "# the \".hapaxes\" shows you words with only occur once\n",
        "turtles_fdist.hapaxes()"
      ]
    },
    {
      "cell_type": "markdown",
      "metadata": {},
      "source": [
        "#### Frequency Distribution Functions\n",
        "\n",
        "`fdist = nltk.FreqDist(tokens)`\n",
        "\n",
        "Information|Syntax\n",
        "-|-\n",
        "Total number of words in the sample|`fdist.N()`\n",
        "Frequency of any particular word|`fdist[word]`\n",
        "Words which occur one time|`fdist.hapaxes()`\n",
        "Top n most frequent words|`fdist.most_common(n)`\n",
        "Plot the distributioon|`fdist.plot()`"
      ]
    },
    {
      "cell_type": "markdown",
      "metadata": {},
      "source": [
        "### How about a more interesting text?\n",
        "\n",
        "- let's load in a longer text, the short story [They're Made out of Meat](https://www.mit.edu/people/dpolicar/writing/prose/text/thinkingMeat.html)\n",
        "\n",
        "- the cell below first downloads the text from GitHub\n",
        "- then, the Python function `open()` is used to read in the text."
      ]
    },
    {
      "cell_type": "code",
      "execution_count": 124,
      "metadata": {},
      "outputs": [
        {
          "name": "stdout",
          "output_type": "stream",
          "text": [
            "--2023-12-10 18:53:35--  https://raw.githubusercontent.com/scskalicky/VocabAtVic2023NLPWorkshop/main/tmoom.txt\n",
            "Resolving raw.githubusercontent.com (raw.githubusercontent.com)... 185.199.108.133, 185.199.109.133, 185.199.110.133, ...\n",
            "Connecting to raw.githubusercontent.com (raw.githubusercontent.com)|185.199.108.133|:443... connected.\n",
            "HTTP request sent, awaiting response... 200 OK\n",
            "Length: 4450 (4.3K) [text/plain]\n",
            "Saving to: ‘tmoom.txt.4’\n",
            "\n",
            "tmoom.txt.4         100%[===================>]   4.35K  --.-KB/s    in 0s      \n",
            "\n",
            "2023-12-10 18:53:35 (30.1 MB/s) - ‘tmoom.txt.4’ saved [4450/4450]\n",
            "\n"
          ]
        }
      ],
      "source": [
        "# Colab allows for terminal functions like `wget`\n",
        "!wget 'https://raw.githubusercontent.com/scskalicky/VocabAtVic2023NLPWorkshop/main/tmoom.txt'\n",
        "# open the file as a string into Python\n",
        "tmoom = open('tmoom.txt').read()"
      ]
    },
    {
      "cell_type": "code",
      "execution_count": 125,
      "metadata": {},
      "outputs": [
        {
          "data": {
            "text/plain": [
              "'\"They\\'re made out of meat.\"\\n\"Meat?\"\\n\"Meat. They\\'re made out of meat.\"\\n\"Meat?\"\\n\"There\\'s no doubt about it. We picked several from different parts of the planet, took them aboard our recon vessels, probed them all the way through. They\\'re completely meat.\"\\n\"That\\'s impossible. What about the radio signals? The messages to the stars.\"\\n\"They use the radio waves to talk, but the signals don\\'t come from them. The signals come from machines.\"\\n\"So who made the machines? That\\'s who we want to contact.\"\\n\"They made the machines. That\\'s what I\\'m trying to tell you. Meat made the machines.\"\\n\"That\\'s ridiculous. How can meat make a machine? You\\'re asking me to believe in sentient meat.\"\\n\"I\\'m not asking you, I\\'m telling you. These creatures are the only sentient race in the sector and they\\'re made out of meat.\"\\n\"Maybe they\\'re like the Orfolei. You know, a carbon-based intelligence that goes through a meat stage.\"\\n\"Nope. They\\'re born meat and they die meat. We studied them for several of their life spans, which didn\\'t take too long. Do you have any idea the life span of meat?\"\\n\"Spare me. Okay, maybe they\\'re only part meat. You know, like the Weddilei. A meat head with an electron plasma brain inside.\"\\n\"Nope. We thought of that, since they do have meat heads like the Weddilei. But I told you, we probed them. They\\'re meat all the way through.\"\\n\"No brain?\"\\n\"Oh, there is a brain all right. It\\'s just that the brain is made out of meat!\"\\n\"So... what does the thinking?\"\\n\"You\\'re not understanding, are you? The brain does the thinking. The meat.\"\\n\"Thinking meat! You\\'re asking me to believe in thinking meat!\"\\n\"Yes, thinking meat! Conscious meat! Loving meat. Dreaming meat. The meat is the whole deal! Are you getting the picture?\"\\n\"Omigod. You\\'re serious then. They\\'re made out of meat.\"\\n\"Finally, Yes. They are indeed made out meat. And they\\'ve been trying to get in touch with us for almost a hundred of their years.\"\\n\"So what does the meat have in mind.\"\\n\"First it wants to talk to us. Then I imagine it wants to explore the universe, contact other sentients, swap ideas and information. The usual.\"\\n\"We\\'re supposed to talk to meat?\"\\n\"That\\'s the idea. That\\'s the message they\\'re sending out by radio. \\'Hello. Anyone out there? Anyone home?\\' That sort of thing.\"\\n\"They actually do talk, then. They use words, ideas, concepts?\"\\n\"Oh, yes. Except they do it with meat.\"\\n\"I thought you just told me they used radio.\"\\n\"They do, but what do you think is on the radio? Meat sounds. You know how when you slap or flap meat it makes a noise? They talk by flapping their meat at each other. They can even sing by squirting air through their meat.\"\\n\"Omigod. Singing meat. This is altogether too much. So what do you advise?\"\\n\"Officially or unofficially?\"\\n\"Both.\"\\n\"Officially, we are required to contact, welcome, and log in any and all sentient races or multibeings in the quadrant, without prejudice, fear, or favor. Unofficially, I advise that we erase the records and forget the whole thing.\"\\n\"I was hoping you would say that.\"\\n\"It seems harsh, but there is a limit. Do we really want to make contact with meat?\"\\n\"I agree one hundred percent. What\\'s there to say?\" `Hello, meat. How\\'s it going?\\' But will this work? How many planets are we dealing with here?\"\\n\"Just one. They can travel to other planets in special meat containers, but they can\\'t live on them. And being meat, they only travel through C space. Which limits them to the speed of light and makes the possibility of their ever making contact pretty slim. Infinitesimal, in fact.\"\\n\"So we just pretend there\\'s no one home in the universe.\"\\n\"That\\'s it.\"\\n\"Cruel. But you said it yourself, who wants to meet meat? And the ones who have been aboard our vessels, the ones you have probed? You\\'re sure they won\\'t remember?\"\\n\"They\\'ll be considered crackpots if they do. We went into their heads and smoothed out their meat so that we\\'re just a dream to them.\"\\n\"A dream to meat! How strangely appropriate, that we should be meat\\'s dream.\"\\n\"And we can marked this sector unoccupied.\"\\n\"Good. Agreed, officially and unofficially. Case closed. Any others? Anyone interesting on that side of the galaxy?\"\\n\"Yes, a rather shy but sweet hydrogen core cluster intelligence in a class nine star in G445 zone. Was in contact two galactic rotation ago, wants to be friendly again.\"\\n\"They always come around.\"\\n\"And why not? Imagine how unbearably, how unutterably cold the universe would be if one were all alone.\"'"
            ]
          },
          "execution_count": 125,
          "metadata": {},
          "output_type": "execute_result"
        }
      ],
      "source": [
        "# look at the text\n",
        "tmoom"
      ]
    },
    {
      "cell_type": "code",
      "execution_count": 126,
      "metadata": {},
      "outputs": [
        {
          "data": {
            "text/plain": [
              "'\"they\\'re made out of meat.\"\\n\"meat?\"\\n\"meat. they\\'re made out of meat.\"\\n\"meat?\"\\n\"there\\'s no doubt about it. we picked several from different parts of the planet, took them aboard our recon vessels, probed them all the way through. they\\'re completely meat.\"\\n\"that\\'s impossible. what about the radio signals? the messages to the stars.\"\\n\"they use the radio waves to talk, but the signals don\\'t come from them. the signals come from machines.\"\\n\"so who made the machines? that\\'s who we want to contact.\"\\n\"they made the machines. that\\'s what i\\'m trying to tell you. meat made the machines.\"\\n\"that\\'s ridiculous. how can meat make a machine? you\\'re asking me to believe in sentient meat.\"\\n\"i\\'m not asking you, i\\'m telling you. these creatures are the only sentient race in the sector and they\\'re made out of meat.\"\\n\"maybe they\\'re like the orfolei. you know, a carbon-based intelligence that goes through a meat stage.\"\\n\"nope. they\\'re born meat and they die meat. we studied them for several of their life spans, which didn\\'t take too long. do you have any idea the life span of meat?\"\\n\"spare me. okay, maybe they\\'re only part meat. you know, like the weddilei. a meat head with an electron plasma brain inside.\"\\n\"nope. we thought of that, since they do have meat heads like the weddilei. but i told you, we probed them. they\\'re meat all the way through.\"\\n\"no brain?\"\\n\"oh, there is a brain all right. it\\'s just that the brain is made out of meat!\"\\n\"so... what does the thinking?\"\\n\"you\\'re not understanding, are you? the brain does the thinking. the meat.\"\\n\"thinking meat! you\\'re asking me to believe in thinking meat!\"\\n\"yes, thinking meat! conscious meat! loving meat. dreaming meat. the meat is the whole deal! are you getting the picture?\"\\n\"omigod. you\\'re serious then. they\\'re made out of meat.\"\\n\"finally, yes. they are indeed made out meat. and they\\'ve been trying to get in touch with us for almost a hundred of their years.\"\\n\"so what does the meat have in mind.\"\\n\"first it wants to talk to us. then i imagine it wants to explore the universe, contact other sentients, swap ideas and information. the usual.\"\\n\"we\\'re supposed to talk to meat?\"\\n\"that\\'s the idea. that\\'s the message they\\'re sending out by radio. \\'hello. anyone out there? anyone home?\\' that sort of thing.\"\\n\"they actually do talk, then. they use words, ideas, concepts?\"\\n\"oh, yes. except they do it with meat.\"\\n\"i thought you just told me they used radio.\"\\n\"they do, but what do you think is on the radio? meat sounds. you know how when you slap or flap meat it makes a noise? they talk by flapping their meat at each other. they can even sing by squirting air through their meat.\"\\n\"omigod. singing meat. this is altogether too much. so what do you advise?\"\\n\"officially or unofficially?\"\\n\"both.\"\\n\"officially, we are required to contact, welcome, and log in any and all sentient races or multibeings in the quadrant, without prejudice, fear, or favor. unofficially, i advise that we erase the records and forget the whole thing.\"\\n\"i was hoping you would say that.\"\\n\"it seems harsh, but there is a limit. do we really want to make contact with meat?\"\\n\"i agree one hundred percent. what\\'s there to say?\" `hello, meat. how\\'s it going?\\' but will this work? how many planets are we dealing with here?\"\\n\"just one. they can travel to other planets in special meat containers, but they can\\'t live on them. and being meat, they only travel through c space. which limits them to the speed of light and makes the possibility of their ever making contact pretty slim. infinitesimal, in fact.\"\\n\"so we just pretend there\\'s no one home in the universe.\"\\n\"that\\'s it.\"\\n\"cruel. but you said it yourself, who wants to meet meat? and the ones who have been aboard our vessels, the ones you have probed? you\\'re sure they won\\'t remember?\"\\n\"they\\'ll be considered crackpots if they do. we went into their heads and smoothed out their meat so that we\\'re just a dream to them.\"\\n\"a dream to meat! how strangely appropriate, that we should be meat\\'s dream.\"\\n\"and we can marked this sector unoccupied.\"\\n\"good. agreed, officially and unofficially. case closed. any others? anyone interesting on that side of the galaxy?\"\\n\"yes, a rather shy but sweet hydrogen core cluster intelligence in a class nine star in g445 zone. was in contact two galactic rotation ago, wants to be friendly again.\"\\n\"they always come around.\"\\n\"and why not? imagine how unbearably, how unutterably cold the universe would be if one were all alone.\"'"
            ]
          },
          "execution_count": 126,
          "metadata": {},
          "output_type": "execute_result"
        }
      ],
      "source": [
        "# maybe we should lowercase the text? easy as.\n",
        "tmoom = tmoom.lower()\n",
        "tmoom"
      ]
    },
    {
      "cell_type": "code",
      "execution_count": 127,
      "metadata": {},
      "outputs": [
        {
          "data": {
            "text/plain": [
              "778"
            ]
          },
          "execution_count": 127,
          "metadata": {},
          "output_type": "execute_result"
        }
      ],
      "source": [
        "# how many words?\n",
        "len(tmoom.split())"
      ]
    },
    {
      "cell_type": "code",
      "execution_count": 128,
      "metadata": {},
      "outputs": [
        {
          "data": {
            "text/plain": [
              "1082"
            ]
          },
          "execution_count": 128,
          "metadata": {},
          "output_type": "execute_result"
        }
      ],
      "source": [
        "# do you remember why the nltk method results in more 'words'?\n",
        "len(nltk.word_tokenize(tmoom))"
      ]
    },
    {
      "cell_type": "code",
      "execution_count": 129,
      "metadata": {},
      "outputs": [],
      "source": [
        "# create frequency distribution using nltk tokenization method\n",
        "tmoom_fdist = nltk.FreqDist(nltk.word_tokenize(tmoom))"
      ]
    },
    {
      "cell_type": "code",
      "execution_count": null,
      "metadata": {},
      "outputs": [],
      "source": [
        "# what is the frequency of the word \"meat\" in TMOOM?\n"
      ]
    },
    {
      "cell_type": "code",
      "execution_count": 130,
      "metadata": {},
      "outputs": [],
      "source": [
        "# what are the five most frequent words in TMOOM?\n"
      ]
    },
    {
      "cell_type": "code",
      "execution_count": 81,
      "metadata": {},
      "outputs": [
        {
          "data": {
            "image/png": "[encoded data removed]",
            "text/plain": [
              "<Figure size 640x480 with 1 Axes>"
            ]
          },
          "metadata": {},
          "output_type": "display_data"
        },
        {
          "data": {
            "text/plain": [
              "<Axes: xlabel='Samples', ylabel='Percents'>"
            ]
          },
          "execution_count": 81,
          "metadata": {},
          "output_type": "execute_result"
        }
      ],
      "source": [
        "# Plot the frequency of the top 15 most-frequent words\n",
        "# percents = true for percents rather than raw count\n",
        "tmoom_fdist.plot(15, percents = True)"
      ]
    },
    {
      "cell_type": "markdown",
      "metadata": {},
      "source": [
        "### A bigger plot\n",
        "\n",
        "We can expand the code to get a plot of top 50\n",
        "\n",
        "- make the plot bigger\n",
        "- rotate the x axis labels"
      ]
    },
    {
      "cell_type": "code",
      "execution_count": 82,
      "metadata": {},
      "outputs": [
        {
          "data": {
            "image/png": "[encoded data removed]",
            "text/plain": [
              "<Figure size 1200x600 with 1 Axes>"
            ]
          },
          "metadata": {},
          "output_type": "display_data"
        }
      ],
      "source": [
        "# these first two lines are to make the plot larger\n",
        "import matplotlib.pyplot as plt\n",
        "# resize the plot\n",
        "plt.figure(figsize=(12, 6))\n",
        "\n",
        "# this creates the plot\n",
        "tmoom_fdist.plot(50, \n",
        "title = 'Top-50 most frequent TMOOM words', \n",
        "percents = True,\n",
        "color = 'blue', \n",
        "#cumulative = True,\n",
        "linestyle = 'dashed', show = False)\n",
        "\n",
        "#this stuff just to rotate the xaxis labels\n",
        "ax = plt.gca()\n",
        "# Rotate the x-axis ticks\n",
        "for tick in ax.get_xticklabels():\n",
        "    tick.set_rotation(70)\n",
        "\n",
        "# Show the plot\n",
        "plt.show()"
      ]
    },
    {
      "cell_type": "markdown",
      "metadata": {},
      "source": [
        "## **Pre-Processing**\n",
        "\n",
        "- Use conditional expressions and tests to remove things we don't want\n",
        "    - remove anything that is punctuation...\n",
        "    - only keep things that are words...\n",
        "    - only keep words of certain lengths...\n",
        "    - remove function/stopwords\n",
        "\n",
        "\n",
        "### Use `if` conditional statements to do this:\n",
        "\n",
        ">```\n",
        ">\n",
        ">if condition is True:\n",
        ">    do something\n",
        ">\n",
        ">```\n",
        "\n",
        "\n",
        "#### Conditional tests include:\n",
        "\n",
        "Test|Syntax\n",
        "--|--\n",
        "is `a` the same as `b`?| `a == b`\n",
        "is `a` greater than `b`?|`a > b`\n",
        "is `a` less than `b`?|`a < b`\n",
        "is `a` in `b?`|`a in b`\n",
        "is `a` not in `b?`|`a not in b`\n",
        "string-specific tests|string-specific syntax\n",
        "is `a` an alphanumeric character?|`a.isalpha()`\n",
        "is `a` uppercased?|`a.isupper()`\n",
        "is `a` lowercased?|`a.islower()`\n"
      ]
    },
    {
      "cell_type": "code",
      "execution_count": 31,
      "metadata": {},
      "outputs": [
        {
          "data": {
            "text/plain": [
              "True"
            ]
          },
          "execution_count": 31,
          "metadata": {},
          "output_type": "execute_result"
        }
      ],
      "source": [
        "# is 'a' equal to 'a'?\n",
        "'a' == 'a'"
      ]
    },
    {
      "cell_type": "code",
      "execution_count": 32,
      "metadata": {},
      "outputs": [
        {
          "data": {
            "text/plain": [
              "False"
            ]
          },
          "execution_count": 32,
          "metadata": {},
          "output_type": "execute_result"
        }
      ],
      "source": [
        "# is 'a' equal to 'b'?\n",
        "'a' == 'b'"
      ]
    },
    {
      "cell_type": "markdown",
      "metadata": {},
      "source": [
        "#### `.isalpha()` is one way to remove punctuation..."
      ]
    },
    {
      "cell_type": "code",
      "execution_count": 84,
      "metadata": {},
      "outputs": [
        {
          "data": {
            "text/plain": [
              "True"
            ]
          },
          "execution_count": 84,
          "metadata": {},
          "output_type": "execute_result"
        }
      ],
      "source": [
        "'a'.isalpha()"
      ]
    },
    {
      "cell_type": "code",
      "execution_count": 85,
      "metadata": {},
      "outputs": [
        {
          "data": {
            "text/plain": [
              "False"
            ]
          },
          "execution_count": 85,
          "metadata": {},
          "output_type": "execute_result"
        }
      ],
      "source": [
        "'!'.isalpha()"
      ]
    },
    {
      "cell_type": "markdown",
      "metadata": {},
      "source": [
        "Looping though a sequence allows you to perform the test for each item in the sequence:\n",
        "\n",
        "Practice changing the condition to see different results.\n",
        "\n",
        "Try:\n",
        "\n",
        "- `letter.isupper()`\n",
        "- `letter.islower()`\n",
        "- `letter.isalpha()`"
      ]
    },
    {
      "cell_type": "code",
      "execution_count": 142,
      "metadata": {},
      "outputs": [
        {
          "name": "stdout",
          "output_type": "stream",
          "text": [
            "New Zealand!"
          ]
        }
      ],
      "source": [
        "# sequence through the string\n",
        "for letter in 'New Zealand!':\n",
        "    # apply a test to each item in the string\n",
        "    if ... :\n",
        "        # perform an action is the test is True\n",
        "        print(letter, end = '')"
      ]
    },
    {
      "cell_type": "markdown",
      "metadata": {},
      "source": [
        "### List Comprehensions\n",
        "\n",
        "- Now that you understand looping and conditionals, time for list comprehensions \n",
        "- List comprehensions quickly create new lists from existing lists (or other sequences/generators)\n",
        "- The general syntax of a list comprehension is as follows:\n",
        "\n",
        "> `[statement/expression for value in sequence/generator]`\n",
        "\n",
        "The list comprehension above uses `[]`, just like a list, and will indeed return a list of values which meet the statement or expression indicated in the *first* part of the list comprehension."
      ]
    },
    {
      "cell_type": "code",
      "execution_count": 143,
      "metadata": {},
      "outputs": [
        {
          "data": {
            "text/plain": [
              "['w', 'o', 'r', 'd']"
            ]
          },
          "execution_count": 143,
          "metadata": {},
          "output_type": "execute_result"
        }
      ],
      "source": [
        "# ask for each letter in \"word\"\n",
        "# note that the results are a list\n",
        "[letter for letter in 'word']"
      ]
    },
    {
      "cell_type": "code",
      "execution_count": 144,
      "metadata": {},
      "outputs": [
        {
          "data": {
            "text/plain": [
              "['N', 'Z']"
            ]
          },
          "execution_count": 144,
          "metadata": {},
          "output_type": "execute_result"
        }
      ],
      "source": [
        "# for each letter in \"New Zealand\", give me the letter if is upper case\n",
        "[letter for letter in \"New Zealand\" if letter.isupper()]"
      ]
    },
    {
      "cell_type": "code",
      "execution_count": 145,
      "metadata": {},
      "outputs": [
        {
          "data": {
            "text/plain": [
              "['Hello', 'World']"
            ]
          },
          "execution_count": 145,
          "metadata": {},
          "output_type": "execute_result"
        }
      ],
      "source": [
        "# for each token in the tokenized list created from \"Hello World!\", give me the token if it is alphanumeric\n",
        "[token for token in nltk.word_tokenize(\"Hello World!\") if token.isalpha()]"
      ]
    },
    {
      "cell_type": "code",
      "execution_count": 146,
      "metadata": {},
      "outputs": [
        {
          "data": {
            "text/plain": [
              "['hello', 'world']"
            ]
          },
          "execution_count": 146,
          "metadata": {},
          "output_type": "execute_result"
        }
      ],
      "source": [
        "# for each token in the tokenized list created from \"Hello World!\", give me the token if it is alphanumeric\n",
        "# also, lowercase the token\n",
        "[token.lower() for token in nltk.word_tokenize(\"Hello World!\") if token.isalpha()]"
      ]
    },
    {
      "cell_type": "markdown",
      "metadata": {},
      "source": [
        "So, how to obtain a list of all tokens from TMOOM that are *not* punctuation? \n",
        "\n",
        "- Can you complete the list comprehension?\n",
        "- The first ??? should be a call to `nltk.word_tokenize(tmoom)`\n",
        "- The second ??? should be a testing if `word` is alphanumeric. "
      ]
    },
    {
      "cell_type": "code",
      "execution_count": 74,
      "metadata": {},
      "outputs": [],
      "source": [
        "# for each word in the tokenized version of TMOOM, give me the token if it is alphanumeric\n",
        "tmoom_no_punc = [word for word in ??? if ???]"
      ]
    },
    {
      "cell_type": "code",
      "execution_count": 76,
      "metadata": {},
      "outputs": [
        {
          "data": {
            "image/png": "[encoded data removed]",
            "text/plain": [
              "<Figure size 640x480 with 1 Axes>"
            ]
          },
          "metadata": {},
          "output_type": "display_data"
        },
        {
          "data": {
            "text/plain": [
              "<Axes: xlabel='Samples', ylabel='Percents'>"
            ]
          },
          "execution_count": 76,
          "metadata": {},
          "output_type": "execute_result"
        }
      ],
      "source": [
        "# we can plot this frequency - no more punctuation :) \n",
        "nltk.FreqDist(tmoom_no_punc).plot(10, percents = True)"
      ]
    },
    {
      "cell_type": "markdown",
      "metadata": {},
      "source": [
        "Removing stopwords\n",
        "\n",
        "You might also be only interested in removing all of the function words in a text. \n",
        "\n",
        "You can do so by defining a list of words you *don't* want, and asking for a list of all words but those. \n",
        "\n",
        "And, NLTK has a built-in list of stopwords!"
      ]
    },
    {
      "cell_type": "code",
      "execution_count": 147,
      "metadata": {},
      "outputs": [
        {
          "name": "stderr",
          "output_type": "stream",
          "text": [
            "[nltk_data] Downloading package stopwords to\n",
            "[nltk_data]     /Users/sskalicky/nltk_data...\n",
            "[nltk_data]   Package stopwords is already up-to-date!\n"
          ]
        },
        {
          "data": {
            "text/plain": [
              "True"
            ]
          },
          "execution_count": 147,
          "metadata": {},
          "output_type": "execute_result"
        }
      ],
      "source": [
        "nltk.download(\"stopwords\")"
      ]
    },
    {
      "cell_type": "code",
      "execution_count": 148,
      "metadata": {},
      "outputs": [],
      "source": [
        "# save the stopwords to an list\n",
        "stopwords = nltk.corpus.stopwords.words('english')"
      ]
    },
    {
      "cell_type": "code",
      "execution_count": null,
      "metadata": {},
      "outputs": [],
      "source": [
        "# view the stopwords\n",
        "stopwords"
      ]
    },
    {
      "cell_type": "code",
      "execution_count": 159,
      "metadata": {},
      "outputs": [],
      "source": [
        "# give me the lower cased version of all tokens in the tokenized version of the text\n",
        "tmoom_fdist_no_stopwords = nltk.FreqDist([token.lower() for token in nltk.word_tokenize(tmoom) \n",
        "# if the lowercased version of the text is NOT in stopwords\n",
        "if token.lower() not in stopwords \n",
        "# and if the token is alphanumeric\n",
        "and token.isalpha()])"
      ]
    },
    {
      "cell_type": "code",
      "execution_count": 161,
      "metadata": {},
      "outputs": [
        {
          "data": {
            "image/png": "[encoded data removed]",
            "text/plain": [
              "<Figure size 640x480 with 1 Axes>"
            ]
          },
          "metadata": {},
          "output_type": "display_data"
        },
        {
          "data": {
            "text/plain": [
              "<Axes: xlabel='Samples', ylabel='Percents'>"
            ]
          },
          "execution_count": 161,
          "metadata": {},
          "output_type": "execute_result"
        }
      ],
      "source": [
        "# the plot looks much different now!\n",
        "tmoom_fdist_no_stopwords.plot(10, percents = True)"
      ]
    },
    {
      "cell_type": "markdown",
      "metadata": {},
      "source": [
        "## **Parts of Speech**\n",
        "\n",
        "NLTK can also be used to tag the part of speech for words in your document. \n",
        "\n",
        "\n",
        "We can use the built in NLTK part of speech tagging function.\n",
        "\n",
        "The function expects tokens:\n",
        "\n",
        "> `nltk.pos_tag(tokens)`\n",
        "\n",
        "The results will be a list of `(word,tag)` pairs (which incidently introduces you to another Python data structure, the tuple.)\n"
      ]
    },
    {
      "cell_type": "code",
      "execution_count": 163,
      "metadata": {},
      "outputs": [],
      "source": [
        "# step 1: have some text\n",
        "gc_quote = \"You know, we're living in a society! We're supposed to act in a civilized way.\""
      ]
    },
    {
      "cell_type": "code",
      "execution_count": 164,
      "metadata": {},
      "outputs": [],
      "source": [
        "# step 2: tokenize\n",
        "gc_quote_tokens = nltk.word_tokenize(gc_quote)"
      ]
    },
    {
      "cell_type": "code",
      "execution_count": null,
      "metadata": {},
      "outputs": [],
      "source": [
        "# step 3: tag\n",
        "gc_quote_pos = nltk.pos_tag(gc_quote_tokens)\n",
        "\n",
        "# look at the resulting (word, tag) pairs\n",
        "[tagged for tagged in gc_quote_pos]"
      ]
    },
    {
      "cell_type": "code",
      "execution_count": null,
      "metadata": {},
      "outputs": [],
      "source": [
        "# full list of tags, with definitions and examples\n",
        "nltk.help.upenn_tagset()"
      ]
    },
    {
      "cell_type": "markdown",
      "metadata": {},
      "source": [
        "# **Frequency + Part of Speech**\n",
        "\n",
        "Let's combine everything so far to find the frequency of various words *and* their part of speech"
      ]
    },
    {
      "cell_type": "code",
      "execution_count": 170,
      "metadata": {},
      "outputs": [
        {
          "data": {
            "text/plain": [
              "'\"they\\'re made out of meat'"
            ]
          },
          "execution_count": 170,
          "metadata": {},
          "output_type": "execute_result"
        }
      ],
      "source": [
        "# use the tmoom text\n",
        "tmoom[:25]"
      ]
    },
    {
      "cell_type": "code",
      "execution_count": 174,
      "metadata": {},
      "outputs": [],
      "source": [
        "# tokenize\n",
        "tmoom_tokens = nltk.word_tokenize(tmoom)"
      ]
    },
    {
      "cell_type": "code",
      "execution_count": 191,
      "metadata": {},
      "outputs": [],
      "source": [
        "tmoom_pos = nltk.pos_tag(tmoom_tokens)"
      ]
    },
    {
      "cell_type": "code",
      "execution_count": 192,
      "metadata": {},
      "outputs": [
        {
          "data": {
            "text/plain": [
              "[('``', '``'),\n",
              " ('they', 'PRP'),\n",
              " (\"'re\", 'VBP'),\n",
              " ('made', 'VBN'),\n",
              " ('out', 'IN'),\n",
              " ('of', 'IN'),\n",
              " ('meat', 'NN'),\n",
              " ('.', '.'),\n",
              " (\"''\", \"''\"),\n",
              " ('``', '``')]"
            ]
          },
          "execution_count": 192,
          "metadata": {},
          "output_type": "execute_result"
        }
      ],
      "source": [
        "tmoom_pos[:10]"
      ]
    },
    {
      "cell_type": "code",
      "execution_count": 197,
      "metadata": {},
      "outputs": [],
      "source": [
        "# another (better) way to clean punctuation\n",
        "punctuation = \"'?.,[];:'`\"\n",
        "quotes = ['``', \"''\"]\n",
        "\n",
        "# the [0] is a slice which says index the first thing in the list\n",
        "tmoom_clean = [pair for pair in tmoom_pos if pair[0] not in punctuation and pair[0] not in quotes]"
      ]
    },
    {
      "cell_type": "code",
      "execution_count": 198,
      "metadata": {},
      "outputs": [
        {
          "data": {
            "text/plain": [
              "[('they', 'PRP'),\n",
              " (\"'re\", 'VBP'),\n",
              " ('made', 'VBN'),\n",
              " ('out', 'IN'),\n",
              " ('of', 'IN'),\n",
              " ('meat', 'NN'),\n",
              " ('meat', 'NN'),\n",
              " ('meat', 'NN'),\n",
              " ('they', 'PRP'),\n",
              " (\"'re\", 'VBP')]"
            ]
          },
          "execution_count": 198,
          "metadata": {},
          "output_type": "execute_result"
        }
      ],
      "source": [
        "tmoom_clean[:10]"
      ]
    }
  ],
  "metadata": {
    "colab": {
      "authorship_tag": "ABX9TyN0SD9Nf71c1FiJtD0Xlkbu",
      "include_colab_link": true,
      "private_outputs": true,
      "provenance": []
    },
    "kernelspec": {
      "display_name": "Python 3",
      "name": "python3"
    },
    "language_info": {
      "codemirror_mode": {
        "name": "ipython",
        "version": 3
      },
      "file_extension": ".py",
      "mimetype": "text/x-python",
      "name": "python",
      "nbconvert_exporter": "python",
      "pygments_lexer": "ipython3",
      "version": "3.10.10"
    }
  },
  "nbformat": 4,
  "nbformat_minor": 0
}
