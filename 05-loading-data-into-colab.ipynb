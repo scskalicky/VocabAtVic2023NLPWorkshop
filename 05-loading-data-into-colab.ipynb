{
  "cells": [
    {
      "cell_type": "markdown",
      "metadata": {
        "colab_type": "text",
        "id": "view-in-github"
      },
      "source": [
        "<a href=\"https://colab.research.google.com/github/scskalicky/VocabAtVic2023NLPWorkshop/blob/main/05-loading-data-into-colab.ipynb\" target=\"_parent\"><img src=\"https://colab.research.google.com/assets/colab-badge.svg\" alt=\"Open In Colab\"/></a>"
      ]
    },
    {
      "cell_type": "markdown",
      "metadata": {
        "id": "7X3OUdi30S5Q"
      },
      "source": [
        "# Supplemental: Using your own data\n",
        "All of the examples in this workshop use provided data. \n",
        "\n",
        "But you probably want to use your own data. \n",
        "\n",
        "This notebook shows you a few options for doing so."
      ]
    },
    {
      "cell_type": "markdown",
      "metadata": {
        "id": "Nf4AphsizytP"
      },
      "source": [
        "# Option 1: Mounting your Google Drive\n",
        "\n",
        "One way to do so involves connecting Google Colab with your Google Drive.\n",
        "\n",
        "The process of connecting Colab to your Google Drive is known as mounting your drive. To do so, you click on the folder icon on the left side of the Colab page:\n",
        "\n",
        "<img src = https://i.imgur.com/82Wedue.png>\n",
        "\n",
        "Then you click the \"mount drive\" icon in the next menu:\n",
        "\n",
        "<img src = https://i.imgur.com/d8DxFIu.png>\n",
        "\n",
        "Colab should then automatically add a code cell like this:\n",
        "\n",
        "<img src = https://i.imgur.com/ttfUkwi.png>\n",
        "\n",
        "Run the cell to mount your Google Drive. You will most likely see several permissions prompts asking you if its okay to make this connection with the associated Google account. It's fine to do this with notebooks you make or the ones I give you, but be wary of other notebooks that might try to ask for your account permissions. There is likely no big risk but I feel obligated to tell you that you should not blindly trust any other Colab notebooks you might come across.\n",
        "\n"
      ]
    },
    {
      "cell_type": "markdown",
      "metadata": {
        "id": "KDANcdwPIlZP"
      },
      "source": [
        "## Accessing files in your Google Drive\n",
        "\n",
        "Now that your Drive is connected, you can directly access files in your Google Drive account. This is very handy. (You might need to click the refresh button (the folder with the circle arrow) to see the new folder).\n",
        "\n",
        "You should see a new folder on the left side menu (after clicking on the folder icon) called `drive`. Clicking that folder should then reveal a subfolder called `MyDrive`. The `MyDrive` folder is the root folder for your Google Drive.\n",
        "\n",
        "<img src = https://i.imgur.com/Av1mGtQ.png>\n",
        "\n",
        "\n",
        "\n",
        "\n",
        "In order to access files on your drive, you will need to be able to give Python the full filepath to your files. No matter where your files are, the start of your filepath will always be `/content/drive/MyDrive/...`, where the `...` are any additional folders.\n",
        "\n",
        "So, for example, if you had a file called `mydata.txt` located in the base level of your Google Drive, the filepath location would be `/content/drive/MyDrive/mydata.txt`. If you had that same file located in a folder called `mydata`, the filepath would be `/content/drive/MyDrive/mydata/mydata.txt`, and so on."
      ]
    },
    {
      "cell_type": "markdown",
      "metadata": {
        "id": "EmmobRTP4s2H"
      },
      "source": [
        "# Option 2: Using `!wget` or the `requests` library\n",
        "\n",
        "Using Google Drive is a solid bet for integrating with Colab, but you might not like mounting drives each time you run a notebook, or working with files in your drive.\n",
        "\n",
        "There are other options which involve reading files directly from the internet, using other functions such as `!wget` or Python libraries for requesting data from URLs, such as the `requests` library. There are various places in these materials which show how to do either method.\n",
        "\n",
        "However, using these methods requires that the data already exists on the internet somewhere, and also exists at a URL you can access (and ideally control). Therefore, I only recommend using this method if you able to control the place where you data lives - and it might just be easier for you to use Google Drive if you don't want to go that route. But, using GitHub is a solid choice, and one which is used in some of these notebooks (as well as the example below).\n",
        "\n",
        "The main benefit of using `!wget` is that the data is loaded directly into the notebook environment, so you would not need to muck around with sifting through files on the Google Drive. This method is also a bit easier to share resources with, since someone else would not need to have the same data on their Drive.\n",
        "\n",
        "Below is an example of using `!wget` to access a text file saved on GitHub."
      ]
    },
    {
      "cell_type": "code",
      "execution_count": null,
      "metadata": {
        "id": "f1MQjXQK_VlE"
      },
      "outputs": [],
      "source": [
        "# using !wget to load a file into the notebook environment\n",
        "!wget 'https://raw.githubusercontent.com/scskalicky/VocabAtVic2023NLPWorkshop/main/tmoom.txt'"
      ]
    },
    {
      "cell_type": "markdown",
      "metadata": {
        "id": "V9CsM6Hl_kBW"
      },
      "source": [
        "Instead of pointing at `/content/drive/MyDrive/...`, you instead just point at `/content/...`\n",
        "\n",
        "You need to use the appropriate method to open the file, such as using `open()` to open a text file:"
      ]
    },
    {
      "cell_type": "code",
      "execution_count": null,
      "metadata": {
        "id": "6x5bFgBN_x9j"
      },
      "outputs": [],
      "source": [
        "# read in the text\n",
        "tmoom = open('tmoom.txt').read()\n",
        "\n",
        "# split into tokens\n",
        "tmoom_tokens = nltk.word_tokenize(tmoom)\n",
        "\n",
        "# look at the first ten tokens!\n",
        "[token for token in tmoom_tokens][:10]"
      ]
    },
    {
      "cell_type": "markdown",
      "metadata": {
        "id": "Uub01nj30Gwq"
      },
      "source": [
        "## `requests`\n",
        "\n",
        "You can also read in data directly from the url using Python libraries such as `requests` or `urllib`. This method still requires that you know where you can access a text file from, but unlike `!wget` will load the file directly into Python, rather than through the notebook environment first. You typically need to point a function towards a url and then use some additional methods to open the data. This works best for raw `.txt` files."
      ]
    },
    {
      "cell_type": "code",
      "execution_count": null,
      "metadata": {
        "id": "6EqbD09Q0H6v"
      },
      "outputs": [],
      "source": [
        "# import the library\n",
        "import requests"
      ]
    },
    {
      "cell_type": "code",
      "execution_count": null,
      "metadata": {
        "id": "AU1xAczj0knu"
      },
      "outputs": [],
      "source": [
        "# save URL to a variable\n",
        "URL = 'https://raw.githubusercontent.com/scskalicky/VocabAtVic2023NLPWorkshop/main/tmoom.txt'"
      ]
    },
    {
      "cell_type": "code",
      "execution_count": null,
      "metadata": {
        "id": "mTpZ6lFk0odh"
      },
      "outputs": [],
      "source": [
        "# use .get() to retrieve file at the URL\n",
        "data = requests.get(URL)"
      ]
    },
    {
      "cell_type": "markdown",
      "metadata": {
        "id": "gmMdBW800y84"
      },
      "source": [
        "You can see that the information is saved in the variable in a format specific to the requests library. On its own, we can't see that text in the data object.  "
      ]
    },
    {
      "cell_type": "code",
      "execution_count": null,
      "metadata": {
        "id": "bF0MffZY0yaL"
      },
      "outputs": [],
      "source": [
        "data"
      ]
    },
    {
      "cell_type": "markdown",
      "metadata": {
        "id": "B4xWsY8d1BI9"
      },
      "source": [
        "This variable has a variety of attributes, one of which is the `text` attribute, which includes the text of the URL. In this case, it is a `.txt` file. You can access the text using `.text` - note that you do not need to use the brackets."
      ]
    },
    {
      "cell_type": "code",
      "execution_count": null,
      "metadata": {
        "id": "K6R8uuJz1Etm"
      },
      "outputs": [],
      "source": [
        "data.text"
      ]
    },
    {
      "cell_type": "markdown",
      "metadata": {
        "id": "15IkZ0D41a17"
      },
      "source": [
        "We can of course chain these functions together in order to read in the text and convert it into tokens or some other format in one single line. In the cell below, I split the URL results on newlines inside of a list comprehension. The result is requesting the file and receiving a list of all the sentences in the file."
      ]
    },
    {
      "cell_type": "code",
      "execution_count": null,
      "metadata": {
        "id": "estIp3c91gUm"
      },
      "outputs": [],
      "source": [
        "[line for line in requests.get(URL).text.split('\\n')]"
      ]
    },
    {
      "cell_type": "markdown",
      "metadata": {
        "id": "2MoOmo5AyCbv"
      },
      "source": [
        "# Option 3: Uploading files manually\n",
        "\n",
        "There is also a way to upload files directly to the notebook environment. This involves using a function from the colab library. First, import the function."
      ]
    },
    {
      "cell_type": "code",
      "execution_count": null,
      "metadata": {
        "id": "NiM7RmF0yR36"
      },
      "outputs": [],
      "source": [
        "# import the files function from colab\n",
        "from google.colab import files"
      ]
    },
    {
      "cell_type": "markdown",
      "metadata": {
        "id": "zWgQ9fnLyWv5"
      },
      "source": [
        "After importing the function, you now have access to a few functions, one of which allows you to upload files into your notebook. You do this with the `files.upload()` function."
      ]
    },
    {
      "cell_type": "code",
      "execution_count": null,
      "metadata": {
        "id": "YmZ0GeO0yTVc"
      },
      "outputs": [],
      "source": [
        "# run a cell with this command to prompt the user to upload files.\n",
        "files.upload()"
      ]
    },
    {
      "cell_type": "markdown",
      "metadata": {
        "id": "lXWkUrDYyw5_"
      },
      "source": [
        "You can then choose a file from anywhere on your computer and upload it to the notebook environment. The file can then be accessed using the same methods used with `!wget`."
      ]
    }
  ],
  "metadata": {
    "colab": {
      "include_colab_link": true,
      "private_outputs": true,
      "provenance": [],
      "toc_visible": true
    },
    "kernelspec": {
      "display_name": "Python 3",
      "name": "python3"
    },
    "language_info": {
      "name": "python"
    }
  },
  "nbformat": 4,
  "nbformat_minor": 0
}
