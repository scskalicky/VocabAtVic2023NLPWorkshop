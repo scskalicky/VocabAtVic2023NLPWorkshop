{
  "cells": [
    {
      "cell_type": "markdown",
      "metadata": {
        "colab_type": "text",
        "id": "view-in-github"
      },
      "source": [
        "<a href=\"https://colab.research.google.com/github/scskalicky/VocabAtVic2023NLPWorkshop/blob/main/04-spaCy.ipynb\" target=\"_parent\"><img src=\"https://colab.research.google.com/assets/colab-badge.svg\" alt=\"Open In Colab\"/></a>"
      ]
    },
    {
      "cell_type": "markdown",
      "metadata": {
        "id": "vIwfve-Z-DrF"
      },
      "source": [
        "# **spaCy** \n",
        "\n",
        "- spaCy refers to itself as [\"industrial\" strength NLP](https://spacy.io/)\n",
        "\n",
        "- spaCy is a more modern NLP package with some similarities and differences to NLP\n",
        "\n",
        "- Perhaps most importantly, spaCy has access to [many different language models](https://spacy.io/models)\n",
        "\n",
        "\n",
        "### Using spaCy\n",
        "\n",
        "Just like NLTK, spaCy comes pre-installed on Colab. You need to `import spacy` first. "
      ]
    },
    {
      "cell_type": "code",
      "execution_count": 3,
      "metadata": {
        "id": "w1awe3K4oMvI"
      },
      "outputs": [],
      "source": [
        "# import spacy and save the parser to a variable\n",
        "import spacy\n",
        "nlp = spacy.load('en_core_web_sm')"
      ]
    },
    {
      "cell_type": "code",
      "execution_count": 20,
      "metadata": {},
      "outputs": [
        {
          "name": "stdout",
          "output_type": "stream",
          "text": [
            "--2023-12-10 21:56:55--  https://raw.githubusercontent.com/scskalicky/LING-226-vuw/main/sample-texts/marine_biologist.txt\n",
            "Resolving raw.githubusercontent.com (raw.githubusercontent.com)... 185.199.111.133, 185.199.110.133, 185.199.109.133, ...\n",
            "Connecting to raw.githubusercontent.com (raw.githubusercontent.com)|185.199.111.133|:443... connected.\n",
            "HTTP request sent, awaiting response... 200 OK\n",
            "Length: 16603 (16K) [text/plain]\n",
            "Saving to: ‘marine_biologist.txt.1’\n",
            "\n",
            "marine_biologist.tx 100%[===================>]  16.21K  --.-KB/s    in 0.001s  \n",
            "\n",
            "2023-12-10 21:56:55 (15.0 MB/s) - ‘marine_biologist.txt.1’ saved [16603/16603]\n",
            "\n"
          ]
        }
      ],
      "source": [
        "# now, let's get a text loaded\n",
        "!wget 'https://raw.githubusercontent.com/scskalicky/LING-226-vuw/main/sample-texts/marine_biologist.txt'\n",
        "\n",
        "mb = open('marine_biologist.txt').read()"
      ]
    },
    {
      "cell_type": "code",
      "execution_count": 21,
      "metadata": {
        "id": "dDoNvScroq_u"
      },
      "outputs": [],
      "source": [
        "# create some parsed text\n",
        "parsed_text = nlp(mb)"
      ]
    },
    {
      "cell_type": "markdown",
      "metadata": {
        "id": "kwuXaEAbo1kx"
      },
      "source": [
        "Calling parsed text just gives us the text back, but we can also directly access tokens:"
      ]
    },
    {
      "cell_type": "code",
      "execution_count": 31,
      "metadata": {
        "id": "6irAI9TUozSC"
      },
      "outputs": [
        {
          "data": {
            "text/plain": [
              "\n",
              "JERRY But see look at the collar, see it's fraying. Golden Boy is slowly dying."
            ]
          },
          "execution_count": 31,
          "metadata": {},
          "output_type": "execute_result"
        }
      ],
      "source": [
        "parsed_text[85:105]"
      ]
    },
    {
      "cell_type": "markdown",
      "metadata": {},
      "source": [
        "What we have done is create a [`Doc`](https://spacy.io/api/doc) object, which is a parsed text using the spaCy model we chose. The `Doc` object will have a ton of built-in features we can use to extract various pieces of linguistic information. Unlike NLTK, the `Doc` object will already contain tokens, parts of speech, noun chunks, and more. You can see a [full description of spaCy's linguistic features](https://spacy.io/usage/linguistic-features)."
      ]
    },
    {
      "cell_type": "code",
      "execution_count": 32,
      "metadata": {},
      "outputs": [
        {
          "data": {
            "text/plain": [
              "spacy.tokens.doc.Doc"
            ]
          },
          "execution_count": 32,
          "metadata": {},
          "output_type": "execute_result"
        }
      ],
      "source": [
        "# confirm that we now have a specific spaCy object\n",
        "type(parsed_text)"
      ]
    },
    {
      "cell_type": "code",
      "execution_count": null,
      "metadata": {
        "id": "ZIChu_p1v7-9"
      },
      "outputs": [],
      "source": [
        "# You can get sentences...\n",
        "list([sent for sent in parsed_text.sents])"
      ]
    },
    {
      "cell_type": "code",
      "execution_count": null,
      "metadata": {
        "id": "kVMvdF2gv_gV"
      },
      "outputs": [],
      "source": [
        "# You can get noun chunks...\n",
        "list([chunk for chunk in parsed_text.noun_chunks])"
      ]
    },
    {
      "cell_type": "code",
      "execution_count": 35,
      "metadata": {
        "id": "knVcj-wBwE4R"
      },
      "outputs": [
        {
          "data": {
            "text/plain": [
              "[ELAINE, Well, did, he, bring, it, up, in, the, meeting]"
            ]
          },
          "execution_count": 35,
          "metadata": {},
          "output_type": "execute_result"
        }
      ],
      "source": [
        "# And of course we can get tokens!\n",
        "list([token for token in parsed_text[:10]])"
      ]
    },
    {
      "cell_type": "markdown",
      "metadata": {},
      "source": [
        "### spaCy token and Doc information\n",
        "\n",
        "Assuming you are looking at the tokens in a `Doc` object...\n",
        "\n",
        "Information|Syntax\n",
        "-|-\n",
        "The token|`token`\n",
        "Simple POS Tag|`token.tag_`\n",
        "Detailed POS Tag|`token.pos_`\n",
        "Dependency|`token.dep_`\n",
        "\n",
        "You can also get information such as noun chunks and named entities from the `Doc` object itself\n",
        "\n",
        "Information|Syntax\n",
        "-|-\n",
        "Noun Chunks |`Doc.noun_chunks`\n",
        "Named Entities|`Doc.ents`\n"
      ]
    },
    {
      "cell_type": "code",
      "execution_count": 37,
      "metadata": {},
      "outputs": [
        {
          "name": "stderr",
          "output_type": "stream",
          "text": [
            "[nltk_data] Downloading package punkt to /Users/sskalicky/nltk_data...\n",
            "[nltk_data]   Package punkt is already up-to-date!\n",
            "[nltk_data] Downloading package averaged_perceptron_tagger to\n",
            "[nltk_data]     /Users/sskalicky/nltk_data...\n",
            "[nltk_data]   Package averaged_perceptron_tagger is already up-to-\n",
            "[nltk_data]       date!\n"
          ]
        },
        {
          "data": {
            "text/plain": [
              "['ELAINE', 'Well', 'did', 'he', 'bring', 'it', 'up', 'in', 'the', 'meeting']"
            ]
          },
          "execution_count": 37,
          "metadata": {},
          "output_type": "execute_result"
        }
      ],
      "source": [
        "# tokenize with NLTK\n",
        "import nltk\n",
        "nltk.download(['punkt', 'averaged_perceptron_tagger'])\n",
        "nltk_tokens = nltk.word_tokenize(mb)\n",
        "nltk_tokens[:10]"
      ]
    },
    {
      "cell_type": "code",
      "execution_count": 39,
      "metadata": {},
      "outputs": [
        {
          "name": "stdout",
          "output_type": "stream",
          "text": [
            "ELAINE NNP PROPN\n",
            "Well UH INTJ\n",
            "did VBD AUX\n",
            "he PRP PRON\n",
            "bring VB VERB\n",
            "it PRP PRON\n",
            "up RP ADP\n",
            "in IN ADP\n",
            "the DT DET\n",
            "meeting NN NOUN\n"
          ]
        }
      ],
      "source": [
        "for token in parsed_text[:10]:\n",
        "  print(token,token.tag_, token.pos_)"
      ]
    },
    {
      "cell_type": "code",
      "execution_count": 40,
      "metadata": {},
      "outputs": [
        {
          "name": "stdout",
          "output_type": "stream",
          "text": [
            "ELAINE NNP\n",
            "Well NNP\n",
            "did VBD\n",
            "he PRP\n",
            "bring VB\n",
            "it PRP\n",
            "up RP\n",
            "in IN\n",
            "the DT\n",
            "meeting NN\n"
          ]
        }
      ],
      "source": [
        "for token in nltk.pos_tag(nltk_tokens[:10]):\n",
        "  print(token[0], token[1])"
      ]
    }
  ],
  "metadata": {
    "colab": {
      "include_colab_link": true,
      "private_outputs": true,
      "provenance": [],
      "toc_visible": true
    },
    "kernelspec": {
      "display_name": "Python 3",
      "name": "python3"
    },
    "language_info": {
      "codemirror_mode": {
        "name": "ipython",
        "version": 3
      },
      "file_extension": ".py",
      "mimetype": "text/x-python",
      "name": "python",
      "nbconvert_exporter": "python",
      "pygments_lexer": "ipython3",
      "version": "3.10.10"
    }
  },
  "nbformat": 4,
  "nbformat_minor": 0
}
